{
 "cells": [
  {
   "cell_type": "markdown",
   "id": "0c5b76bd",
   "metadata": {},
   "source": [
    "Data Cleaning"
   ]
  },
  {
   "cell_type": "code",
   "execution_count": 37,
   "id": "84cdc1a6",
   "metadata": {},
   "outputs": [],
   "source": [
    "import pandas as pd\n",
    "import matplotlib.pyplot as plt"
   ]
  },
  {
   "cell_type": "code",
   "execution_count": 38,
   "id": "3a05507f",
   "metadata": {},
   "outputs": [
    {
     "name": "stderr",
     "output_type": "stream",
     "text": [
      "C:\\Users\\pc cam\\AppData\\Local\\Temp\\ipykernel_7648\\1760764839.py:1: DtypeWarning: Columns (23) have mixed types. Specify dtype option on import or set low_memory=False.\n",
      "  df=pd.read_csv(\"Amazon Sale Report.csv\")\n"
     ]
    }
   ],
   "source": [
    "df=pd.read_csv(\"Amazon Sale Report.csv\")"
   ]
  },
  {
   "cell_type": "code",
   "execution_count": 39,
   "id": "b554ad60",
   "metadata": {},
   "outputs": [
    {
     "name": "stdout",
     "output_type": "stream",
     "text": [
      "index                   int64\n",
      "Order ID               object\n",
      "Date                   object\n",
      "Status                 object\n",
      "Fulfilment             object\n",
      "Sales Channel          object\n",
      "ship-service-level     object\n",
      "Style                  object\n",
      "SKU                    object\n",
      "Category               object\n",
      "Size                   object\n",
      "ASIN                   object\n",
      "Courier Status         object\n",
      "Qty                     int64\n",
      "currency               object\n",
      "Amount                float64\n",
      "ship-city              object\n",
      "ship-state             object\n",
      "ship-postal-code      float64\n",
      "ship-country           object\n",
      "promotion-ids          object\n",
      "B2B                      bool\n",
      "fulfilled-by           object\n",
      "Unnamed: 22           float64\n",
      "dtype: object\n"
     ]
    }
   ],
   "source": [
    "df_sample = pd.read_csv(\"Amazon Sale Report.csv\", nrows=25)\n",
    "print(df_sample.dtypes)"
   ]
  },
  {
   "cell_type": "code",
   "execution_count": 40,
   "id": "0b8ec935",
   "metadata": {},
   "outputs": [
    {
     "name": "stdout",
     "output_type": "stream",
     "text": [
      "[nan False]\n"
     ]
    }
   ],
   "source": [
    "print(df[\"Unnamed: 22\"].unique())"
   ]
  },
  {
   "cell_type": "code",
   "execution_count": 41,
   "id": "02f53977",
   "metadata": {},
   "outputs": [],
   "source": [
    "df.drop(\"Unnamed: 22\", axis=1, inplace=True)"
   ]
  },
  {
   "cell_type": "code",
   "execution_count": 42,
   "id": "0412c127",
   "metadata": {},
   "outputs": [
    {
     "name": "stdout",
     "output_type": "stream",
     "text": [
      "['INR' nan]\n"
     ]
    }
   ],
   "source": [
    "print(df[\"currency\"].unique())"
   ]
  },
  {
   "cell_type": "code",
   "execution_count": 43,
   "id": "625e8343",
   "metadata": {},
   "outputs": [],
   "source": [
    "df[\"currency\"] = df[\"currency\"].fillna(\"INR\")"
   ]
  },
  {
   "cell_type": "code",
   "execution_count": 44,
   "id": "85c9b7d3",
   "metadata": {},
   "outputs": [],
   "source": [
    "df[\"ship-city\"]=df[\"ship-city\"].fillna(\"Unknown\")\n",
    "df[\"ship-state\"]=df[\"ship-state\"].fillna(\"Unknown\")\n",
    "df[\"ship-postal-code\"]=df[\"ship-postal-code\"].fillna(\"Unknown\")\n",
    "df[\"ship-country\"]=df[\"ship-country\"].fillna(\"Unknown\")"
   ]
  },
  {
   "cell_type": "code",
   "execution_count": 45,
   "id": "3468eeea",
   "metadata": {},
   "outputs": [],
   "source": [
    "df[\"Courier Status\"]=df[\"Courier Status\"].fillna(\"Unknown\")\n",
    "df[\"Amount\"]=df[\"Amount\"].fillna(0)"
   ]
  },
  {
   "cell_type": "code",
   "execution_count": 46,
   "id": "ab982c4d",
   "metadata": {},
   "outputs": [
    {
     "data": {
      "text/plain": [
       "index                 0\n",
       "Order ID              0\n",
       "Date                  0\n",
       "Status                0\n",
       "Fulfilment            0\n",
       "Sales Channel         0\n",
       "ship-service-level    0\n",
       "Style                 0\n",
       "SKU                   0\n",
       "Category              0\n",
       "Size                  0\n",
       "ASIN                  0\n",
       "Courier Status        0\n",
       "Qty                   0\n",
       "currency              0\n",
       "Amount                0\n",
       "ship-city             0\n",
       "ship-state            0\n",
       "ship-postal-code      0\n",
       "ship-country          0\n",
       "B2B                   0\n",
       "dtype: int64"
      ]
     },
     "execution_count": 46,
     "metadata": {},
     "output_type": "execute_result"
    }
   ],
   "source": [
    "df = df.drop(['promotion-ids', 'fulfilled-by'], axis=1)\n",
    "df.isnull().sum()"
   ]
  },
  {
   "cell_type": "code",
   "execution_count": 47,
   "id": "6ed29770",
   "metadata": {},
   "outputs": [
    {
     "name": "stdout",
     "output_type": "stream",
     "text": [
      "Shipped à 0€ restants : 2536\n",
      "SUPPRIMÉS !\n",
      "RÉSULTAT FINAL :\n",
      "Status\n",
      "Cancelled                        7566\n",
      "Pending                            19\n",
      "Pending - Waiting for Pick Up       9\n",
      "Shipping                            8\n",
      "Name: count, dtype: int64\n"
     ]
    }
   ],
   "source": [
    "# 1. VÉRIFIER combien de \"Shipped\" à 0€ il reste\n",
    "shipped_zero = df[(df['Amount'] == 0) & (df['Status'].str.startswith('Shipped'))].shape[0]\n",
    "print(f\"Shipped à 0€ restants : {shipped_zero}\")\n",
    "\n",
    "# 2. Si > 0, LES SUPPRIMER VRAIMENT\n",
    "if shipped_zero > 0:\n",
    "    df = df[~((df['Amount'] == 0) & (df['Status'].str.startswith('Shipped')))]\n",
    "    print(\"SUPPRIMÉS !\")\n",
    "\n",
    "# 3. VÉRIFICATION FINALE\n",
    "final_check = df[df['Amount'] == 0]['Status'].value_counts()\n",
    "print(\"RÉSULTAT FINAL :\")\n",
    "print(final_check)"
   ]
  },
  {
   "cell_type": "code",
   "execution_count": 48,
   "id": "01bcb826",
   "metadata": {},
   "outputs": [
    {
     "data": {
      "text/plain": [
       "np.int64(0)"
      ]
     },
     "execution_count": 48,
     "metadata": {},
     "output_type": "execute_result"
    }
   ],
   "source": [
    "df.duplicated().sum()"
   ]
  },
  {
   "cell_type": "markdown",
   "id": "3707460e",
   "metadata": {},
   "source": [
    "EDA"
   ]
  },
  {
   "cell_type": "markdown",
   "id": "148fcbb6",
   "metadata": {},
   "source": [
    "Le dataset contient 126 439 lignes et 21 colonnes. Les types de données sont cohérents avec les attentes, à part quelques conversions nécessaires."
   ]
  },
  {
   "cell_type": "code",
   "execution_count": 49,
   "id": "d6ff40b4",
   "metadata": {},
   "outputs": [
    {
     "data": {
      "text/plain": [
       "(126439, 21)"
      ]
     },
     "execution_count": 49,
     "metadata": {},
     "output_type": "execute_result"
    }
   ],
   "source": [
    "df.shape"
   ]
  },
  {
   "cell_type": "code",
   "execution_count": 50,
   "id": "dcce22fa",
   "metadata": {},
   "outputs": [
    {
     "data": {
      "text/plain": [
       "Index(['index', 'Order ID', 'Date', 'Status', 'Fulfilment', 'Sales Channel ',\n",
       "       'ship-service-level', 'Style', 'SKU', 'Category', 'Size', 'ASIN',\n",
       "       'Courier Status', 'Qty', 'currency', 'Amount', 'ship-city',\n",
       "       'ship-state', 'ship-postal-code', 'ship-country', 'B2B'],\n",
       "      dtype='object')"
      ]
     },
     "execution_count": 50,
     "metadata": {},
     "output_type": "execute_result"
    }
   ],
   "source": [
    "df.columns"
   ]
  },
  {
   "cell_type": "code",
   "execution_count": 51,
   "id": "134166ca",
   "metadata": {},
   "outputs": [
    {
     "data": {
      "text/html": [
       "<div>\n",
       "<style scoped>\n",
       "    .dataframe tbody tr th:only-of-type {\n",
       "        vertical-align: middle;\n",
       "    }\n",
       "\n",
       "    .dataframe tbody tr th {\n",
       "        vertical-align: top;\n",
       "    }\n",
       "\n",
       "    .dataframe thead th {\n",
       "        text-align: right;\n",
       "    }\n",
       "</style>\n",
       "<table border=\"1\" class=\"dataframe\">\n",
       "  <thead>\n",
       "    <tr style=\"text-align: right;\">\n",
       "      <th></th>\n",
       "      <th>index</th>\n",
       "      <th>Order ID</th>\n",
       "      <th>Date</th>\n",
       "      <th>Status</th>\n",
       "      <th>Fulfilment</th>\n",
       "      <th>Sales Channel</th>\n",
       "      <th>ship-service-level</th>\n",
       "      <th>Style</th>\n",
       "      <th>SKU</th>\n",
       "      <th>Category</th>\n",
       "      <th>...</th>\n",
       "      <th>ASIN</th>\n",
       "      <th>Courier Status</th>\n",
       "      <th>Qty</th>\n",
       "      <th>currency</th>\n",
       "      <th>Amount</th>\n",
       "      <th>ship-city</th>\n",
       "      <th>ship-state</th>\n",
       "      <th>ship-postal-code</th>\n",
       "      <th>ship-country</th>\n",
       "      <th>B2B</th>\n",
       "    </tr>\n",
       "  </thead>\n",
       "  <tbody>\n",
       "    <tr>\n",
       "      <th>0</th>\n",
       "      <td>0</td>\n",
       "      <td>405-8078784-5731545</td>\n",
       "      <td>04-30-22</td>\n",
       "      <td>Cancelled</td>\n",
       "      <td>Merchant</td>\n",
       "      <td>Amazon.in</td>\n",
       "      <td>Standard</td>\n",
       "      <td>SET389</td>\n",
       "      <td>SET389-KR-NP-S</td>\n",
       "      <td>Set</td>\n",
       "      <td>...</td>\n",
       "      <td>B09KXVBD7Z</td>\n",
       "      <td>Unknown</td>\n",
       "      <td>0</td>\n",
       "      <td>INR</td>\n",
       "      <td>647.62</td>\n",
       "      <td>MUMBAI</td>\n",
       "      <td>MAHARASHTRA</td>\n",
       "      <td>400081.0</td>\n",
       "      <td>IN</td>\n",
       "      <td>False</td>\n",
       "    </tr>\n",
       "    <tr>\n",
       "      <th>1</th>\n",
       "      <td>1</td>\n",
       "      <td>171-9198151-1101146</td>\n",
       "      <td>04-30-22</td>\n",
       "      <td>Shipped - Delivered to Buyer</td>\n",
       "      <td>Merchant</td>\n",
       "      <td>Amazon.in</td>\n",
       "      <td>Standard</td>\n",
       "      <td>JNE3781</td>\n",
       "      <td>JNE3781-KR-XXXL</td>\n",
       "      <td>kurta</td>\n",
       "      <td>...</td>\n",
       "      <td>B09K3WFS32</td>\n",
       "      <td>Shipped</td>\n",
       "      <td>1</td>\n",
       "      <td>INR</td>\n",
       "      <td>406.00</td>\n",
       "      <td>BENGALURU</td>\n",
       "      <td>KARNATAKA</td>\n",
       "      <td>560085.0</td>\n",
       "      <td>IN</td>\n",
       "      <td>False</td>\n",
       "    </tr>\n",
       "    <tr>\n",
       "      <th>2</th>\n",
       "      <td>2</td>\n",
       "      <td>404-0687676-7273146</td>\n",
       "      <td>04-30-22</td>\n",
       "      <td>Shipped</td>\n",
       "      <td>Amazon</td>\n",
       "      <td>Amazon.in</td>\n",
       "      <td>Expedited</td>\n",
       "      <td>JNE3371</td>\n",
       "      <td>JNE3371-KR-XL</td>\n",
       "      <td>kurta</td>\n",
       "      <td>...</td>\n",
       "      <td>B07WV4JV4D</td>\n",
       "      <td>Shipped</td>\n",
       "      <td>1</td>\n",
       "      <td>INR</td>\n",
       "      <td>329.00</td>\n",
       "      <td>NAVI MUMBAI</td>\n",
       "      <td>MAHARASHTRA</td>\n",
       "      <td>410210.0</td>\n",
       "      <td>IN</td>\n",
       "      <td>True</td>\n",
       "    </tr>\n",
       "    <tr>\n",
       "      <th>3</th>\n",
       "      <td>3</td>\n",
       "      <td>403-9615377-8133951</td>\n",
       "      <td>04-30-22</td>\n",
       "      <td>Cancelled</td>\n",
       "      <td>Merchant</td>\n",
       "      <td>Amazon.in</td>\n",
       "      <td>Standard</td>\n",
       "      <td>J0341</td>\n",
       "      <td>J0341-DR-L</td>\n",
       "      <td>Western Dress</td>\n",
       "      <td>...</td>\n",
       "      <td>B099NRCT7B</td>\n",
       "      <td>Unknown</td>\n",
       "      <td>0</td>\n",
       "      <td>INR</td>\n",
       "      <td>753.33</td>\n",
       "      <td>PUDUCHERRY</td>\n",
       "      <td>PUDUCHERRY</td>\n",
       "      <td>605008.0</td>\n",
       "      <td>IN</td>\n",
       "      <td>False</td>\n",
       "    </tr>\n",
       "    <tr>\n",
       "      <th>4</th>\n",
       "      <td>4</td>\n",
       "      <td>407-1069790-7240320</td>\n",
       "      <td>04-30-22</td>\n",
       "      <td>Shipped</td>\n",
       "      <td>Amazon</td>\n",
       "      <td>Amazon.in</td>\n",
       "      <td>Expedited</td>\n",
       "      <td>JNE3671</td>\n",
       "      <td>JNE3671-TU-XXXL</td>\n",
       "      <td>Top</td>\n",
       "      <td>...</td>\n",
       "      <td>B098714BZP</td>\n",
       "      <td>Shipped</td>\n",
       "      <td>1</td>\n",
       "      <td>INR</td>\n",
       "      <td>574.00</td>\n",
       "      <td>CHENNAI</td>\n",
       "      <td>TAMIL NADU</td>\n",
       "      <td>600073.0</td>\n",
       "      <td>IN</td>\n",
       "      <td>False</td>\n",
       "    </tr>\n",
       "  </tbody>\n",
       "</table>\n",
       "<p>5 rows × 21 columns</p>\n",
       "</div>"
      ],
      "text/plain": [
       "   index             Order ID      Date                        Status  \\\n",
       "0      0  405-8078784-5731545  04-30-22                     Cancelled   \n",
       "1      1  171-9198151-1101146  04-30-22  Shipped - Delivered to Buyer   \n",
       "2      2  404-0687676-7273146  04-30-22                       Shipped   \n",
       "3      3  403-9615377-8133951  04-30-22                     Cancelled   \n",
       "4      4  407-1069790-7240320  04-30-22                       Shipped   \n",
       "\n",
       "  Fulfilment Sales Channel  ship-service-level    Style              SKU  \\\n",
       "0   Merchant      Amazon.in           Standard   SET389   SET389-KR-NP-S   \n",
       "1   Merchant      Amazon.in           Standard  JNE3781  JNE3781-KR-XXXL   \n",
       "2     Amazon      Amazon.in          Expedited  JNE3371    JNE3371-KR-XL   \n",
       "3   Merchant      Amazon.in           Standard    J0341       J0341-DR-L   \n",
       "4     Amazon      Amazon.in          Expedited  JNE3671  JNE3671-TU-XXXL   \n",
       "\n",
       "        Category  ...        ASIN Courier Status Qty  currency  Amount  \\\n",
       "0            Set  ...  B09KXVBD7Z        Unknown   0       INR  647.62   \n",
       "1          kurta  ...  B09K3WFS32        Shipped   1       INR  406.00   \n",
       "2          kurta  ...  B07WV4JV4D        Shipped   1       INR  329.00   \n",
       "3  Western Dress  ...  B099NRCT7B        Unknown   0       INR  753.33   \n",
       "4            Top  ...  B098714BZP        Shipped   1       INR  574.00   \n",
       "\n",
       "     ship-city   ship-state ship-postal-code ship-country    B2B  \n",
       "0       MUMBAI  MAHARASHTRA         400081.0           IN  False  \n",
       "1    BENGALURU    KARNATAKA         560085.0           IN  False  \n",
       "2  NAVI MUMBAI  MAHARASHTRA         410210.0           IN   True  \n",
       "3   PUDUCHERRY   PUDUCHERRY         605008.0           IN  False  \n",
       "4      CHENNAI   TAMIL NADU         600073.0           IN  False  \n",
       "\n",
       "[5 rows x 21 columns]"
      ]
     },
     "execution_count": 51,
     "metadata": {},
     "output_type": "execute_result"
    }
   ],
   "source": [
    "df.head()"
   ]
  },
  {
   "cell_type": "code",
   "execution_count": 52,
   "id": "46570042",
   "metadata": {},
   "outputs": [
    {
     "name": "stdout",
     "output_type": "stream",
     "text": [
      "<class 'pandas.core.frame.DataFrame'>\n",
      "Index: 126439 entries, 0 to 128974\n",
      "Data columns (total 21 columns):\n",
      " #   Column              Non-Null Count   Dtype  \n",
      "---  ------              --------------   -----  \n",
      " 0   index               126439 non-null  int64  \n",
      " 1   Order ID            126439 non-null  object \n",
      " 2   Date                126439 non-null  object \n",
      " 3   Status              126439 non-null  object \n",
      " 4   Fulfilment          126439 non-null  object \n",
      " 5   Sales Channel       126439 non-null  object \n",
      " 6   ship-service-level  126439 non-null  object \n",
      " 7   Style               126439 non-null  object \n",
      " 8   SKU                 126439 non-null  object \n",
      " 9   Category            126439 non-null  object \n",
      " 10  Size                126439 non-null  object \n",
      " 11  ASIN                126439 non-null  object \n",
      " 12  Courier Status      126439 non-null  object \n",
      " 13  Qty                 126439 non-null  int64  \n",
      " 14  currency            126439 non-null  object \n",
      " 15  Amount              126439 non-null  float64\n",
      " 16  ship-city           126439 non-null  object \n",
      " 17  ship-state          126439 non-null  object \n",
      " 18  ship-postal-code    126439 non-null  object \n",
      " 19  ship-country        126439 non-null  object \n",
      " 20  B2B                 126439 non-null  bool   \n",
      "dtypes: bool(1), float64(1), int64(2), object(17)\n",
      "memory usage: 20.4+ MB\n"
     ]
    }
   ],
   "source": [
    "df.info()"
   ]
  },
  {
   "cell_type": "code",
   "execution_count": 53,
   "id": "2736be6a",
   "metadata": {},
   "outputs": [
    {
     "name": "stdout",
     "output_type": "stream",
     "text": [
      "0        2022-04-30\n",
      "1        2022-04-30\n",
      "2        2022-04-30\n",
      "3        2022-04-30\n",
      "4        2022-04-30\n",
      "            ...    \n",
      "128970   2022-05-31\n",
      "128971   2022-05-31\n",
      "128972   2022-05-31\n",
      "128973   2022-05-31\n",
      "128974   2022-05-31\n",
      "Name: Date, Length: 126439, dtype: datetime64[ns]\n"
     ]
    }
   ],
   "source": [
    "df['Date'] = pd.to_datetime(df['Date'], format='%m-%d-%y')\n",
    "print(df['Date'])"
   ]
  },
  {
   "cell_type": "code",
   "execution_count": 54,
   "id": "236f1f55",
   "metadata": {},
   "outputs": [
    {
     "name": "stdout",
     "output_type": "stream",
     "text": [
      "0         400081.0\n",
      "1         560085.0\n",
      "2         410210.0\n",
      "3         605008.0\n",
      "4         600073.0\n",
      "            ...   \n",
      "128970    500013.0\n",
      "128971    122004.0\n",
      "128972    500049.0\n",
      "128973    389350.0\n",
      "128974    492014.0\n",
      "Name: ship-postal-code, Length: 126439, dtype: float64\n"
     ]
    }
   ],
   "source": [
    "df['ship-postal-code'] = pd.to_numeric(df['ship-postal-code'], errors='coerce')\n",
    "print(df['ship-postal-code'])"
   ]
  },
  {
   "cell_type": "code",
   "execution_count": 55,
   "id": "caee99ca",
   "metadata": {},
   "outputs": [
    {
     "data": {
      "text/html": [
       "<div>\n",
       "<style scoped>\n",
       "    .dataframe tbody tr th:only-of-type {\n",
       "        vertical-align: middle;\n",
       "    }\n",
       "\n",
       "    .dataframe tbody tr th {\n",
       "        vertical-align: top;\n",
       "    }\n",
       "\n",
       "    .dataframe thead th {\n",
       "        text-align: right;\n",
       "    }\n",
       "</style>\n",
       "<table border=\"1\" class=\"dataframe\">\n",
       "  <thead>\n",
       "    <tr style=\"text-align: right;\">\n",
       "      <th></th>\n",
       "      <th>index</th>\n",
       "      <th>Date</th>\n",
       "      <th>Qty</th>\n",
       "      <th>Amount</th>\n",
       "      <th>ship-postal-code</th>\n",
       "    </tr>\n",
       "  </thead>\n",
       "  <tbody>\n",
       "    <tr>\n",
       "      <th>count</th>\n",
       "      <td>126439.000000</td>\n",
       "      <td>126439</td>\n",
       "      <td>126439.000000</td>\n",
       "      <td>126439.000000</td>\n",
       "      <td>126406.000000</td>\n",
       "    </tr>\n",
       "    <tr>\n",
       "      <th>mean</th>\n",
       "      <td>64471.351094</td>\n",
       "      <td>2022-05-12 11:04:55.057696</td>\n",
       "      <td>0.902997</td>\n",
       "      <td>621.585731</td>\n",
       "      <td>464564.676408</td>\n",
       "    </tr>\n",
       "    <tr>\n",
       "      <th>min</th>\n",
       "      <td>0.000000</td>\n",
       "      <td>2022-03-31 00:00:00</td>\n",
       "      <td>0.000000</td>\n",
       "      <td>0.000000</td>\n",
       "      <td>110001.000000</td>\n",
       "    </tr>\n",
       "    <tr>\n",
       "      <th>25%</th>\n",
       "      <td>32232.500000</td>\n",
       "      <td>2022-04-20 00:00:00</td>\n",
       "      <td>1.000000</td>\n",
       "      <td>432.000000</td>\n",
       "      <td>382443.000000</td>\n",
       "    </tr>\n",
       "    <tr>\n",
       "      <th>50%</th>\n",
       "      <td>64454.000000</td>\n",
       "      <td>2022-05-10 00:00:00</td>\n",
       "      <td>1.000000</td>\n",
       "      <td>597.000000</td>\n",
       "      <td>500035.000000</td>\n",
       "    </tr>\n",
       "    <tr>\n",
       "      <th>75%</th>\n",
       "      <td>96680.500000</td>\n",
       "      <td>2022-06-04 00:00:00</td>\n",
       "      <td>1.000000</td>\n",
       "      <td>774.000000</td>\n",
       "      <td>600028.000000</td>\n",
       "    </tr>\n",
       "    <tr>\n",
       "      <th>max</th>\n",
       "      <td>128974.000000</td>\n",
       "      <td>2022-06-29 00:00:00</td>\n",
       "      <td>8.000000</td>\n",
       "      <td>5584.000000</td>\n",
       "      <td>989898.000000</td>\n",
       "    </tr>\n",
       "    <tr>\n",
       "      <th>std</th>\n",
       "      <td>37218.451304</td>\n",
       "      <td>NaN</td>\n",
       "      <td>0.309701</td>\n",
       "      <td>304.234550</td>\n",
       "      <td>191372.123884</td>\n",
       "    </tr>\n",
       "  </tbody>\n",
       "</table>\n",
       "</div>"
      ],
      "text/plain": [
       "               index                        Date            Qty  \\\n",
       "count  126439.000000                      126439  126439.000000   \n",
       "mean    64471.351094  2022-05-12 11:04:55.057696       0.902997   \n",
       "min         0.000000         2022-03-31 00:00:00       0.000000   \n",
       "25%     32232.500000         2022-04-20 00:00:00       1.000000   \n",
       "50%     64454.000000         2022-05-10 00:00:00       1.000000   \n",
       "75%     96680.500000         2022-06-04 00:00:00       1.000000   \n",
       "max    128974.000000         2022-06-29 00:00:00       8.000000   \n",
       "std     37218.451304                         NaN       0.309701   \n",
       "\n",
       "              Amount  ship-postal-code  \n",
       "count  126439.000000     126406.000000  \n",
       "mean      621.585731     464564.676408  \n",
       "min         0.000000     110001.000000  \n",
       "25%       432.000000     382443.000000  \n",
       "50%       597.000000     500035.000000  \n",
       "75%       774.000000     600028.000000  \n",
       "max      5584.000000     989898.000000  \n",
       "std       304.234550     191372.123884  "
      ]
     },
     "execution_count": 55,
     "metadata": {},
     "output_type": "execute_result"
    }
   ],
   "source": [
    "df.describe()"
   ]
  },
  {
   "cell_type": "code",
   "execution_count": 56,
   "id": "bcf7c8dc",
   "metadata": {},
   "outputs": [
    {
     "data": {
      "text/plain": [
       "Category\n",
       "Set              49190\n",
       "kurta            48925\n",
       "Western Dress    15263\n",
       "Top              10441\n",
       "Ethnic Dress      1126\n",
       "Blouse             900\n",
       "Bottom             428\n",
       "Saree              163\n",
       "Dupatta              3\n",
       "Name: count, dtype: int64"
      ]
     },
     "execution_count": 56,
     "metadata": {},
     "output_type": "execute_result"
    }
   ],
   "source": [
    "df['Category'].value_counts()"
   ]
  },
  {
   "cell_type": "code",
   "execution_count": 57,
   "id": "b107f5a7",
   "metadata": {},
   "outputs": [
    {
     "name": "stdout",
     "output_type": "stream",
     "text": [
      "Commandes annulées avec montant > 0: 10766\n",
      "Commandes annulées avec Qty > 0: 5631\n"
     ]
    }
   ],
   "source": [
    "cancelled_orders = df[df['Status'] == 'Cancelled']\n",
    "print(f\"Commandes annulées avec montant > 0: {(cancelled_orders['Amount'] > 0).sum()}\")\n",
    "print(f\"Commandes annulées avec Qty > 0: {(cancelled_orders['Qty'] > 0).sum()}\")"
   ]
  },
  {
   "cell_type": "code",
   "execution_count": 58,
   "id": "ff5b1b54",
   "metadata": {},
   "outputs": [
    {
     "name": "stdout",
     "output_type": "stream",
     "text": [
      "Quantité moyenne par commande: 0.9029967019669564\n",
      "Quantité max dans une commande: 8\n"
     ]
    }
   ],
   "source": [
    "# Combien de produits en moyenne par commande ?\n",
    "print(f\"Quantité moyenne par commande: {df['Qty'].mean()}\")\n",
    "print(f\"Quantité max dans une commande: {df['Qty'].max()}\")"
   ]
  },
  {
   "cell_type": "code",
   "execution_count": 59,
   "id": "0a3fa42e",
   "metadata": {},
   "outputs": [
    {
     "data": {
      "image/png": "[encoded data removed]",
      "text/plain": [
       "<Figure size 1200x800 with 1 Axes>"
      ]
     },
     "metadata": {},
     "output_type": "display_data"
    }
   ],
   "source": [
    "# Top 10 des états qui achètent le plus - Version horizontale\n",
    "plt.figure(figsize=(12, 8))\n",
    "df['ship-state'].value_counts().head(10).plot(kind='barh', color='skyblue')\n",
    "plt.title(\"Top 10 des états par nombre de commandes\")\n",
    "plt.xlabel(\"Nombre de commandes\")\n",
    "plt.ylabel(\"État\")\n",
    "plt.grid(axis='x', alpha=0.3)\n",
    "plt.show()"
   ]
  },
  {
   "cell_type": "code",
   "execution_count": 60,
   "id": "f38cd2a3",
   "metadata": {},
   "outputs": [
    {
     "name": "stdout",
     "output_type": "stream",
     "text": [
      "Statuts des commandes :\n",
      "Status\n",
      "Shipped                          76078\n",
      "Shipped - Delivered to Buyer     28045\n",
      "Cancelled                        18332\n",
      "Shipped - Returned to Seller      1899\n",
      "Shipped - Picked Up                945\n",
      "Pending                            658\n",
      "Pending - Waiting for Pick Up      281\n",
      "Shipped - Returning to Seller      143\n",
      "Shipped - Out for Delivery          35\n",
      "Shipped - Rejected by Buyer         11\n",
      "Shipping                             8\n",
      "Shipped - Lost in Transit            3\n",
      "Shipped - Damaged                    1\n",
      "Name: count, dtype: int64\n"
     ]
    }
   ],
   "source": [
    "print(\"Statuts des commandes :\")\n",
    "print(df['Status'].value_counts())"
   ]
  },
  {
   "cell_type": "code",
   "execution_count": 61,
   "id": "706ab442",
   "metadata": {},
   "outputs": [
    {
     "data": {
      "text/plain": [
       "index                  0\n",
       "Order ID               0\n",
       "Date                   0\n",
       "Status                 0\n",
       "Fulfilment             0\n",
       "Sales Channel          0\n",
       "ship-service-level     0\n",
       "Style                  0\n",
       "SKU                    0\n",
       "Category               0\n",
       "Size                   0\n",
       "ASIN                   0\n",
       "Courier Status         0\n",
       "Qty                    0\n",
       "currency               0\n",
       "Amount                 0\n",
       "ship-city              0\n",
       "ship-state             0\n",
       "ship-postal-code      33\n",
       "ship-country           0\n",
       "B2B                    0\n",
       "dtype: int64"
      ]
     },
     "execution_count": 61,
     "metadata": {},
     "output_type": "execute_result"
    }
   ],
   "source": [
    "df.isnull().sum()"
   ]
  },
  {
   "cell_type": "markdown",
   "id": "6a6d3d2f",
   "metadata": {},
   "source": [
    "Top catégories : Sets (49k) et Kurtas (49k) dominent les ventes\n",
    "Panier moyen : 0.9 produit/commande (majorité de commandes unitaires)\n",
    "Maharashtra et Karnataka sont les états les plus actifs\n",
    "76% des commandes sont livrées avec succès"
   ]
  },
  {
   "cell_type": "markdown",
   "id": "64609834",
   "metadata": {},
   "source": [
    "Data Visualization"
   ]
  },
  {
   "cell_type": "code",
   "execution_count": 62,
   "id": "69e7aaa1",
   "metadata": {},
   "outputs": [
    {
     "data": {
      "image/png": "[encoded data removed]",
      "text/plain": [
       "<Figure size 640x480 with 1 Axes>"
      ]
     },
     "metadata": {},
     "output_type": "display_data"
    }
   ],
   "source": [
    "df['Amount'].hist(bins=30)\n",
    "plt.title(\"Répartition des montants des commandes\")\n",
    "plt.xlabel(\"Montant\")\n",
    "plt.ylabel(\"Fréquence\")\n",
    "plt.show()"
   ]
  },
  {
   "cell_type": "markdown",
   "id": "f684841b",
   "metadata": {},
   "source": [
    "On observe que la majorité des commandes ont un montant faible, tandis que très peu dépassent ce montant.\n",
    "Cela montre une forte concentration de petits montants."
   ]
  },
  {
   "cell_type": "code",
   "execution_count": 63,
   "id": "db14f604",
   "metadata": {},
   "outputs": [
    {
     "data": {
      "image/png": "[encoded data removed]",
      "text/plain": [
       "<Figure size 640x480 with 1 Axes>"
      ]
     },
     "metadata": {},
     "output_type": "display_data"
    }
   ],
   "source": [
    "df['Category'].value_counts().plot(kind='bar', color='skyblue')\n",
    "plt.title(\"Commandes par catégorie\")\n",
    "plt.xlabel(\"Catégorie\")\n",
    "plt.ylabel(\"Nombre de commandes\")\n",
    "plt.show()"
   ]
  },
  {
   "cell_type": "markdown",
   "id": "e483e912",
   "metadata": {},
   "source": [
    "La catégorie Set Etkutra domine largement les ventes, suivie de Western Dress. Les autres catégories génèrent très peu de commandes."
   ]
  },
  {
   "cell_type": "code",
   "execution_count": 64,
   "id": "9d0d871f",
   "metadata": {},
   "outputs": [
    {
     "data": {
      "image/png": "[encoded data removed]",
      "text/plain": [
       "<Figure size 640x480 with 1 Axes>"
      ]
     },
     "metadata": {},
     "output_type": "display_data"
    }
   ],
   "source": [
    "df['Status'].value_counts().plot(kind='pie', autopct='%1.1f%%')\n",
    "plt.title(\"Répartition des statuts de commande\")\n",
    "plt.ylabel('')\n",
    "plt.show()"
   ]
  },
  {
   "cell_type": "markdown",
   "id": "afaa8c99",
   "metadata": {},
   "source": [
    "La majorité des commandes sont livrées avec succès, mais un petit pourcentage reste annulé, ce qui peut indiquer des problèmes logistiques."
   ]
  },
  {
   "cell_type": "code",
   "execution_count": 65,
   "id": "b07bf135",
   "metadata": {},
   "outputs": [
    {
     "data": {
      "image/png": "[encoded data removed]",
      "text/plain": [
       "<Figure size 640x480 with 2 Axes>"
      ]
     },
     "metadata": {},
     "output_type": "display_data"
    }
   ],
   "source": [
    "sns.heatmap(df.corr(numeric_only=True), annot=True, cmap='coolwarm')\n",
    "plt.title(\"Corrélation entre variables numériques\")\n",
    "plt.show()"
   ]
  },
  {
   "cell_type": "markdown",
   "id": "18944844",
   "metadata": {},
   "source": [
    "Les variables numériques sont faiblement corrélées, ce qui signifie qu’elles varient de manière indépendante.                                                                                                                   La corrélation la plus forte est entre Amount et Qty, ce qui indique que plus les clients achètent de produits, plus ils dépensent."
   ]
  },
  {
   "cell_type": "markdown",
   "id": "aa9c8e52",
   "metadata": {},
   "source": [
    "Analyse finale  Amazon Sales Report"
   ]
  },
  {
   "cell_type": "markdown",
   "id": "38c51a3d",
   "metadata": {},
   "source": [
    "🧾 Observations principales :\n",
    "\n",
    "\n",
    "La majorité des commandes ont un montant faible (≈ 500 DA), tandis que très peu dépassent ce seuil.\n",
    "  Cela montre une forte concentration de petits achats.\n",
    "\n",
    "\n",
    "La catégorie Set Etkutra enregistre le plus grand nombre de ventes, suivie de Western Dress, alors que les autres catégories génèrent très peu de commandes.\n",
    "  Cela révèle une préférence client claire pour certains types de produits.\n",
    "\n",
    "\n",
    "Le top 10 des États montre que les ventes sont fortement concentrées dans quelques régions, ce qui peut orienter des actions marketing locales.\n",
    "\n",
    "\n",
    "La majorité des commandes sont livrées avec succès, et seules quelques-unes sont annulées, indiquant une bonne fiabilité du service.\n",
    "\n",
    "\n",
    "L’analyse de corrélation montre que les variables numériques sont faiblement liées.\n",
    "  Cela signifie que le montant dépensé et la quantité achetée ne varient pas forcément ensemble.\n",
    "\n",
    "\n",
    "\n",
    " Interprétation business :\n",
    "\n",
    "\n",
    "Les clients achètent souvent en petites quantités et à faible montant → possibilité de créer des offres groupées ou packs promotionnels.\n",
    "\n",
    "Miser sur les catégories populaires (comme Set Etkutra) pour augmenter le stock ou la publicité ciblée.\n",
    "\n",
    "Surveiller les régions peu actives pour comprendre les freins (livraison, notoriété, disponibilité).\n",
    "\n",
    "Maintenir le bon taux de livraison et analyser les rares annulations pour les réduire davantage.\n",
    "\n",
    "\n",
    "\n",
    "En conclusion, l’analyse montre une forte concentration des ventes sur certaines catégories et régions. La majorité des montants restent faibles, mais une petite proportion de clients contribue à une part importante du chiffre d’affaires. Les corrélations suggèrent que les volumes achetés influencent directement le montant total. Ces résultats pourraient orienter les stratégies marketing vers la fidélisation des gros acheteurs et l’expansion géographique dans les régions à faible présence."
   ]
  }
 ],
 "metadata": {
  "kernelspec": {
   "display_name": "Python 3",
   "language": "python",
   "name": "python3"
  },
  "language_info": {
   "codemirror_mode": {
    "name": "ipython",
    "version": 3
   },
   "file_extension": ".py",
   "mimetype": "text/x-python",
   "name": "python",
   "nbconvert_exporter": "python",
   "pygments_lexer": "ipython3",
   "version": "3.13.3"
  }
 },
 "nbformat": 4,
 "nbformat_minor": 5
}
